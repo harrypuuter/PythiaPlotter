{
 "cells": [
  {
   "cell_type": "code",
   "execution_count": 1,
   "metadata": {
    "collapsed": true
   },
   "outputs": [],
   "source": [
    "import networkx as nx\n",
    "from collections import OrderedDict\n",
    "from itertools import chain"
   ]
  },
  {
   "cell_type": "code",
   "execution_count": 138,
   "metadata": {
    "collapsed": true
   },
   "outputs": [],
   "source": [
    "class OrderedMultiDiGraph(nx.MultiDiGraph):\n",
    "    node_dict_factory = OrderedDict\n",
    "    adjlist_dict_factory = OrderedDict\n",
    "    edge_key_dict_factory = OrderedDict\n",
    "    \n",
    "    def add_edge(self, u, v, **kwargs):\n",
    "        u.children.append(v)\n",
    "        v.parents.append(u)\n",
    "        return super(self.__class__, self).add_edge(u, v, **kwargs)\n",
    "\n",
    "    def add_edges_from(self, edges_list, **kwargs):\n",
    "        for edge in edges_list:\n",
    "            if len(edge) == 2:\n",
    "                u, v = edge\n",
    "                self.add_edge(u, v, **kwargs)\n",
    "            elif len(edge) == 3:\n",
    "                u, v, d = edge\n",
    "                self.add_edge(u, v, attr_dict=d, **kwargs)\n"
   ]
  },
  {
   "cell_type": "code",
   "execution_count": 274,
   "metadata": {
    "collapsed": true
   },
   "outputs": [],
   "source": [
    "class Particle(object):\n",
    "    \n",
    "    def __init__(self, name):\n",
    "        self.name  = name\n",
    "        self.children = []\n",
    "        self.parents = []\n",
    "\n",
    "    def __repr__(self):\n",
    "        return \"%s(children=%s, parents=%s)\" % (self.name, \n",
    "                                                ', '.join([c.name for c in self.children]), \n",
    "                                                ', '.join([p.name for p in self.parents]))\n",
    "    \n",
    "    def __str__(self):\n",
    "        return \"%s(children=%s, parents=%s)\" % (self.name, \n",
    "                                                ', '.join([c.name for c in self.children]), \n",
    "                                                ', '.join([p.name for p in self.parents]))\n",
    "    \n",
    "    def __eq__(self, other):\n",
    "        return self.name == other.name"
   ]
  },
  {
   "cell_type": "code",
   "execution_count": 339,
   "metadata": {
    "collapsed": true
   },
   "outputs": [],
   "source": [
    "def node_graph_to_graphviz(gr):\n",
    "    s = 'digraph g {\\n'\n",
    "    s += '    rankdir=\"LR\";\\n'\n",
    "    for edge in gr.edges():\n",
    "        s += '    %s -> %s;\\n' % (edge[0].name, edge[1].name)\n",
    "    s += '\\n}'\n",
    "    return s\n",
    "\n",
    "def write_node_graph_to_file(gr, filename):\n",
    "    with open(filename, 'w') as f:\n",
    "        f.write(node_graph_to_graphviz(gr))"
   ]
  },
  {
   "cell_type": "code",
   "execution_count": 422,
   "metadata": {
    "collapsed": false
   },
   "outputs": [],
   "source": [
    "A = Particle(\"A\")\n",
    "B = Particle(\"B\")\n",
    "C = Particle(\"C\")\n",
    "D = Particle(\"D\")\n",
    "E = Particle(\"E\")\n",
    "F = Particle(\"F\")\n",
    "G = Particle(\"G\")\n",
    "H = Particle(\"H\")\n",
    "I = Particle(\"I\")\n",
    "\n",
    "# gr = nx.MultiDiGraph()\n",
    "gr = OrderedMultiDiGraph()\n",
    "\n",
    "# gr.add_edges_from([(A, C), (A, D), (B, D), (B, E)]) # VBF diagram\n",
    "\n",
    "gr.add_edges_from([(A, D), (B, D), (C, D), (B, E), (C, E)]) # scenario 3\n",
    "\n",
    "# gr.add_edges_from([(A, C), (A, D), (B, C), (B, D)]) # 4 body vertex\n",
    "\n",
    "# gr.add_edges_from([(A, C), (A, D), (B, D)]) # scenario 1\n",
    "\n",
    "# gr.add_edges_from([(A, E), (B, E), (B, F), (C, F), (C, G), (D, G)])"
   ]
  },
  {
   "cell_type": "code",
   "execution_count": 423,
   "metadata": {
    "collapsed": false
   },
   "outputs": [
    {
     "data": {
      "text/plain": [
       "[A(children=D, parents=),\n",
       " D(children=, parents=A, B, C),\n",
       " B(children=D, E, parents=),\n",
       " C(children=D, E, parents=),\n",
       " E(children=, parents=B, C)]"
      ]
     },
     "execution_count": 423,
     "metadata": {},
     "output_type": "execute_result"
    }
   ],
   "source": [
    "gr.nodes()"
   ]
  },
  {
   "cell_type": "code",
   "execution_count": 424,
   "metadata": {
    "collapsed": false
   },
   "outputs": [
    {
     "data": {
      "text/plain": [
       "[(A(children=D, parents=), D(children=, parents=A, B, C)),\n",
       " (B(children=D, E, parents=), D(children=, parents=A, B, C)),\n",
       " (B(children=D, E, parents=), E(children=, parents=B, C)),\n",
       " (C(children=D, E, parents=), D(children=, parents=A, B, C)),\n",
       " (C(children=D, E, parents=), E(children=, parents=B, C))]"
      ]
     },
     "execution_count": 424,
     "metadata": {},
     "output_type": "execute_result"
    }
   ],
   "source": [
    "gr.edges()"
   ]
  },
  {
   "cell_type": "code",
   "execution_count": 425,
   "metadata": {
    "collapsed": true
   },
   "outputs": [],
   "source": [
    "write_node_graph_to_file(gr, 'node_orig.gv')\n",
    "\n",
    "!dot -Tpdf node_orig.gv -o node_orig.pdf"
   ]
  },
  {
   "cell_type": "code",
   "execution_count": 426,
   "metadata": {
    "code_folding": [],
    "collapsed": false,
    "scrolled": false
   },
   "outputs": [
    {
     "name": "stdout",
     "output_type": "stream",
     "text": [
      "This node: A(children=D, parents=)\n",
      "Starting Total parents: []\n",
      "Starting Total children: [D(children=, parents=A, B, C)]\n",
      "Final Total parents: [C(children=D, E, parents=), A(children=D, parents=), B(children=D, E, parents=)]\n",
      "Final Total children: [D(children=, parents=A, B, C), E(children=, parents=B, C)]\n",
      "Need duplicate as E(children=, parents=B, C) has 2 / 3 parents of this subgraph\n",
      "Parents: [B(children=D, E, parents=), C(children=D, E, parents=)]\n",
      "Starting with [(A(children=D, parents=), D(children=, parents=A, B, C)), (B(children=D, E, parents=), D(children=, parents=A, B, C)), (B(children=D, E, parents=), E(children=, parents=B, C)), (C(children=D, E, parents=), D(children=, parents=A, B, C)), (C(children=D, E, parents=), E(children=, parents=B, C))]\n",
      "Removing C D\n",
      "(C(children=D, E, parents=), D(children=, parents=A, B, C))\n",
      "Adding C_D(children=, parents=)\n",
      "Removing C E\n",
      "(C(children=E, C_D, parents=), E(children=, parents=B, C))\n",
      "Adding C_E(children=, parents=)\n",
      "Removing B D\n",
      "(B(children=D, E, parents=), D(children=, parents=A, B, C_D))\n",
      "Adding B_D(children=, parents=)\n",
      "Removing B E\n",
      "(B(children=E, B_D, parents=), E(children=, parents=B, C_E))\n",
      "Adding B_E(children=, parents=)\n"
     ]
    }
   ],
   "source": [
    "# consider a node\n",
    "node = gr.nodes()[0]\n",
    "print \"This node:\", node\n",
    "\n",
    "# construct a sub-graph of all children & parents\n",
    "if len(node.children) > 0:\n",
    "    total_parents = []\n",
    "    total_children = node.children[:]\n",
    "\n",
    "    print \"Starting Total parents:\", total_parents\n",
    "    print \"Starting Total children:\", total_children\n",
    "    \n",
    "    def all_parents(children):\n",
    "        return list(set([p for c in children for p in c.parents]))\n",
    "\n",
    "    def all_children(parents):\n",
    "        return list(set([c for p in parents for c in p.children]))\n",
    "\n",
    "    # iterative algo to get all parents an children\n",
    "    while (set(total_parents) != set(all_parents(total_children)) \n",
    "           or set(total_children) != set(all_children(total_parents))):\n",
    "\n",
    "        total_parents.extend(list(set(all_parents(total_children)).difference(set(total_parents))))\n",
    "        total_children.extend(list(set(all_children(total_parents)).difference(set(total_children))))\n",
    "\n",
    "    print \"Final Total parents:\", total_parents\n",
    "    print \"Final Total children:\", total_children\n",
    "\n",
    "    # now decide if duplication required\n",
    "    do_duplicate = False\n",
    "    for ch in total_children:\n",
    "        if len(ch.parents) != len(total_parents):\n",
    "            do_duplicate = True\n",
    "            print \"Need duplicate as\", ch, \"has\", len(ch.parents), \"/\", len(total_parents), \"parents of this subgraph\"\n",
    "            print \"Parents:\", ch.parents\n",
    "\n",
    "    # if so, add in duplicate node(s), ensuring connections correct\n",
    "    \n",
    "    if do_duplicate:\n",
    "        # duplicate graph to avoid infinite loops...\n",
    "        gr_dupl = gr.copy()\n",
    "        print 'Starting with', gr_dupl.edges()\n",
    "        for pa in total_parents:\n",
    "            if len(pa.children) > 1:\n",
    "                for ch in pa.children:\n",
    "                    if len(ch.parents) > 1:\n",
    "                        print \"Removing\", pa.name, ch.name\n",
    "                        ed = [e for e in gr_dupl.edges() if e[0] == pa and e[1] == ch]\n",
    "                        try:\n",
    "                            ed = ed[0]\n",
    "                        except IndexError as e:\n",
    "                            print 'Cannot get edge', pa, ch\n",
    "                            raise\n",
    "                        print ed\n",
    "                        gr_dupl.remove_edge(*ed)\n",
    "                        new_name = pa.name + \"_\" + ch.name\n",
    "                        dupl = Particle(new_name)\n",
    "                        print 'Adding', dupl\n",
    "                        # need the duplicate objects\n",
    "                        pa_dupl = [n for n in gr_dupl.nodes() if n == pa][0]\n",
    "                        ch_dupl = [n for n in gr_dupl.nodes() if n == ch][0]\n",
    "                        ch_dupl.parents.remove(pa)\n",
    "                        pa_dupl.children.remove(ch_dupl)\n",
    "                        gr_dupl.add_edge(pa_dupl, dupl)\n",
    "                        gr_dupl.add_edge(dupl, ch_dupl)\n",
    "        \n",
    "        gr = gr_dupl"
   ]
  },
  {
   "cell_type": "code",
   "execution_count": 427,
   "metadata": {
    "collapsed": false
   },
   "outputs": [
    {
     "name": "stdout",
     "output_type": "stream",
     "text": [
      "[A(children=D, parents=), D(children=, parents=A, C_D, B_D), B(children=B_D, B_E, parents=), C(children=C_D, C_E, parents=), E(children=, parents=C_E, B_E), C_D(children=D, parents=C), C_E(children=E, parents=C), B_D(children=D, parents=B), B_E(children=E, parents=B)]\n",
      "[(A(children=D, parents=), D(children=, parents=A, C_D, B_D)), (B(children=B_D, B_E, parents=), B_D(children=D, parents=B)), (B(children=B_D, B_E, parents=), B_E(children=E, parents=B)), (C(children=C_D, C_E, parents=), C_D(children=D, parents=C)), (C(children=C_D, C_E, parents=), C_E(children=E, parents=C)), (C_D(children=D, parents=C), D(children=, parents=A, C_D, B_D)), (C_E(children=E, parents=C), E(children=, parents=C_E, B_E)), (B_D(children=D, parents=B), D(children=, parents=A, C_D, B_D)), (B_E(children=E, parents=B), E(children=, parents=C_E, B_E))]\n"
     ]
    }
   ],
   "source": [
    "print gr.nodes()\n",
    "print gr.edges()"
   ]
  },
  {
   "cell_type": "code",
   "execution_count": 428,
   "metadata": {
    "collapsed": true
   },
   "outputs": [],
   "source": [
    "write_node_graph_to_file(gr, 'node.gv')\n",
    "\n",
    "!dot -Tpdf node.gv -o node.pdf"
   ]
  },
  {
   "cell_type": "code",
   "execution_count": 429,
   "metadata": {
    "collapsed": true
   },
   "outputs": [],
   "source": [
    "def edge_graph_to_graphviz(gr):\n",
    "    s = 'digraph g {\\n'\n",
    "    s += '    rankdir=\"LR\";\\n'\n",
    "    s += '    node[shape=\"point\"];\\n'\n",
    "    for edge in gr.edges():\n",
    "        u, v = edge\n",
    "        d = gr.edge[u][v][0]\n",
    "        s += '    %s -> %s[label=\"%s\"];\\n' % (u, v, d['particle'].name)\n",
    "    s += '\\n}'\n",
    "    return s\n",
    "\n",
    "def write_edge_graph_to_file(gr, filename):\n",
    "    with open(filename, 'w') as f:\n",
    "        f.write(edge_graph_to_graphviz(gr))"
   ]
  },
  {
   "cell_type": "code",
   "execution_count": 430,
   "metadata": {
    "collapsed": false
   },
   "outputs": [],
   "source": [
    "# convert to edge graph...\n",
    "gr_new = nx.MultiDiGraph()\n",
    "\n",
    "edge_list = []\n",
    "\n",
    "# for each particle, add an edge\n",
    "for particle in gr.nodes():\n",
    "    u = len(edge_list) * 2\n",
    "    v = u + 1\n",
    "    attr = dict(particle=particle)\n",
    "    p_edge = (u, v, attr)\n",
    "    edge_list.append(p_edge)\n",
    "    \n",
    "# print edge_list \n",
    "\n",
    "gr_new.add_edges_from(edge_list)\n",
    "\n",
    "# gr_new.edge"
   ]
  },
  {
   "cell_type": "code",
   "execution_count": 431,
   "metadata": {
    "collapsed": false,
    "scrolled": false
   },
   "outputs": [
    {
     "name": "stdout",
     "output_type": "stream",
     "text": [
      "**** A(children=D, parents=) 0 1\n",
      "**** D(children=, parents=A, C_D, B_D) 1 3\n",
      "**** B(children=B_D, B_E, parents=) 4 5\n",
      "**** C(children=C_D, C_E, parents=) 6 7\n",
      "**** E(children=, parents=C_E, B_E) 8 9\n",
      "**** C_D(children=D, parents=C) 7 1\n",
      "**** C_E(children=E, parents=C) 7 13\n",
      "**** B_D(children=D, parents=B) 5 1\n",
      "**** B_E(children=E, parents=B) 5 13\n"
     ]
    }
   ],
   "source": [
    "def get_edge(gr, particle):\n",
    "    for (u, v) in gr.edges():\n",
    "#         print u, v\n",
    "        if len(gr.edge[u][v])>1:\n",
    "            print gr.edge[u][v]\n",
    "        if gr.edge[u][v][0]['particle'] == particle:  # [0] for Multi graph...\n",
    "            return u, v\n",
    "        \n",
    "# now simplify vertices for parent/children relationships\n",
    "for particle in gr.nodes():\n",
    "    out_vtx, in_vtx = get_edge(gr_new, particle)\n",
    "    print \"****\", particle, out_vtx, in_vtx\n",
    " \n",
    "    total_parents = []\n",
    "    total_children = particle.children[:]\n",
    "\n",
    "#     print \"Starting Total parents:\", total_parents\n",
    "#     print \"Starting Total children:\", total_children\n",
    "    \n",
    "    def all_parents(children):\n",
    "        parents = list(set([p for c in children for p in c.parents]))\n",
    "#         print 'all_parents (children):', children\n",
    "#         print 'all_parents (parents):', parents\n",
    "        return parents\n",
    "\n",
    "    def all_children(parents):\n",
    "        children = list(set([c for p in parents for c in p.children]))\n",
    "#         print 'all_children (parents):', parents\n",
    "#         print 'all_children (children):', children\n",
    "        return children\n",
    "\n",
    "    # iterative algo to get all parents an children\n",
    "    while (set(total_parents) != set(all_parents(total_children)) \n",
    "           or set(total_children) != set(all_children(total_parents))):\n",
    "\n",
    "        total_parents.extend(list(set(all_parents(total_children)).difference(set(total_parents))))\n",
    "        total_children.extend(list(set(all_children(total_parents)).difference(set(total_children))))\n",
    "#         print 'total_parents:', total_parents\n",
    "#         print 'total_children:', total_children\n",
    "        \n",
    "#     print 'Final', total_parents\n",
    "#     print 'Final', total_children\n",
    "\n",
    "    for child in total_children:\n",
    "#         print '\\tDoing', parent\n",
    "        o, v = get_edge(gr_new, child)\n",
    "#         print '\\tDoing', child, o, v\n",
    "        if o == in_vtx:\n",
    "            continue\n",
    "        e_dict = gr_new.edge[o][v].values()[0]  # what if multiple versions???\n",
    "#         print '\\tRemoving edge', o, v\n",
    "        gr_new.remove_edge(o, v)\n",
    "        if gr_new.edge[o] == {}:\n",
    "#             print '\\tRemoving node', o\n",
    "            gr_new.remove_node(o)\n",
    "#         print '\\tAdding new edge', in_vtx, v, e_dict\n",
    "        gr_new.add_edge(in_vtx, v, attr_dict=e_dict)\n",
    "#         print gr_new.edge\n",
    "        \n",
    "    for parent in total_parents:\n",
    "        if parent == particle:\n",
    "            continue\n",
    "#         print '\\tDoing', parent\n",
    "        o, v = get_edge(gr_new, parent)\n",
    "#         print '\\tDoing', parent, o, v\n",
    "        if v == in_vtx:\n",
    "            continue\n",
    "        e_dict = gr_new.edge[o][v].values()[0]  # what if multiple versions???\n",
    "#         print '\\tRemoving edge', o, v\n",
    "        gr_new.remove_edge(o, v)\n",
    "        if gr_new.edge[o] == {}:\n",
    "#             print '\\tRemoving node', o\n",
    "            gr_new.remove_node(v)\n",
    "#         print '\\tAdding new edge', o, in_vtx, e_dict\n",
    "        gr_new.add_edge(o, in_vtx, attr_dict=e_dict)\n",
    "#         print gr_new.edge"
   ]
  },
  {
   "cell_type": "code",
   "execution_count": 432,
   "metadata": {
    "collapsed": false
   },
   "outputs": [],
   "source": [
    "write_edge_graph_to_file(gr_new, 'edge.gv')\n",
    "\n",
    "!dot -Tpdf edge.gv -o edge.pdf"
   ]
  },
  {
   "cell_type": "code",
   "execution_count": null,
   "metadata": {
    "collapsed": true
   },
   "outputs": [],
   "source": []
  }
 ],
 "metadata": {
  "kernelspec": {
   "display_name": "Python 2",
   "language": "python",
   "name": "python2"
  },
  "language_info": {
   "codemirror_mode": {
    "name": "ipython",
    "version": 2
   },
   "file_extension": ".py",
   "mimetype": "text/x-python",
   "name": "python",
   "nbconvert_exporter": "python",
   "pygments_lexer": "ipython2",
   "version": "2.7.12"
  }
 },
 "nbformat": 4,
 "nbformat_minor": 0
}
